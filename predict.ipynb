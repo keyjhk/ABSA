{
 "cells": [
  {
   "cell_type": "code",
   "execution_count": 40,
   "id": "ef350834",
   "metadata": {},
   "outputs": [],
   "source": [
    "import torch\n",
    "import torch.nn as nn\n",
    "import torch.nn.functional as F\n",
    "import numpy as np\n",
    "import random ,os\n",
    "import time,pickle\n",
    "from tqdm import tqdm\n",
    "import seaborn as sns\n",
    "import matplotlib.pyplot as plt\n",
    "import matplotlib.ticker as ticker"
   ]
  },
  {
   "cell_type": "code",
   "execution_count": 41,
   "id": "423025f6",
   "metadata": {},
   "outputs": [
    {
     "ename": "NameError",
     "evalue": "name 'DEFAULT_OPTION' is not defined",
     "output_type": "error",
     "traceback": [
      "\u001b[1;31m---------------------------------------------------------------------------\u001b[0m",
      "\u001b[1;31mNameError\u001b[0m                                 Traceback (most recent call last)",
      "\u001b[1;32m<ipython-input-41-63c529bf907c>\u001b[0m in \u001b[0;36m<module>\u001b[1;34m()\u001b[0m\n\u001b[0;32m      1\u001b[0m \u001b[0mmodel_cpt_sup\u001b[0m \u001b[1;33m=\u001b[0m \u001b[1;34m'restaurant_1641178246_cvt_epoch5_acc_75.59_f1_60.04.pkl'\u001b[0m\u001b[1;33m\u001b[0m\u001b[1;33m\u001b[0m\u001b[0m\n\u001b[0;32m      2\u001b[0m \u001b[0mmodel_cpt_cvt\u001b[0m \u001b[1;33m=\u001b[0m \u001b[1;34m'restaurant_1641178027_cvt_epoch19_acc_77.62_f1_67.03.pkl'\u001b[0m\u001b[1;33m\u001b[0m\u001b[1;33m\u001b[0m\u001b[0m\n\u001b[1;32m----> 3\u001b[1;33m \u001b[0mopt\u001b[0m \u001b[1;33m=\u001b[0m \u001b[0mDEFAULT_OPTION\u001b[0m\u001b[1;33m.\u001b[0m\u001b[0mset\u001b[0m\u001b[1;33m(\u001b[0m\u001b[1;33m{\u001b[0m\u001b[1;34m'dataset'\u001b[0m\u001b[1;33m:\u001b[0m \u001b[1;34m'restaurant'\u001b[0m\u001b[1;33m}\u001b[0m\u001b[1;33m)\u001b[0m  \u001b[1;31m# select dataset\u001b[0m\u001b[1;33m\u001b[0m\u001b[1;33m\u001b[0m\u001b[0m\n\u001b[0m",
      "\u001b[1;31mNameError\u001b[0m: name 'DEFAULT_OPTION' is not defined"
     ]
    }
   ],
   "source": [
    "model_cpt_sup = 'restaurant_1641178246_cvt_epoch5_acc_75.59_f1_60.04.pkl'\n",
    "model_cpt_cvt = 'restaurant_1641178027_cvt_epoch19_acc_77.62_f1_67.03.pkl'\n",
    "opt = DEFAULT_OPTION.set({'dataset': 'restaurant'})  # select dataset"
   ]
  },
  {
   "cell_type": "code",
   "execution_count": 36,
   "id": "06007309",
   "metadata": {},
   "outputs": [
    {
     "name": "stdout",
     "output_type": "stream",
     "text": [
      "sup: true:482 false:156\n",
      "cvt: true:487 false:151\n"
     ]
    }
   ],
   "source": [
    "# 读取测试结果 \n",
    "saved_dir = 'state/predict/'\n",
    "\n",
    "predict_sup =   # fname.pkl\n",
    "predict_cvt = instructor.predict(name=model_cpt_cvt)\n",
    "\n",
    "# load predict results\n",
    "sup = pickle.load(open(predict_sup, 'rb'))\n",
    "cvt = pickle.load(open(predict_cvt, 'rb'))\n",
    "print('sup [true]:{} [false]:{} [acc]:{}'.format(len(sup['true']), len(sup['false']),\n",
    "                                                 len(sup['true']) / (len(sup['true']) + len(sup['false']))))\n",
    "print('cvt [true]:{} [false]:{} [acc]:{}'.format(len(cvt['true']), len(cvt['false']),\n",
    "                                                 len(cvt['true']) / (len(cvt['true']) + len(cvt['false']))))\n",
    "\n",
    "# intersection sentences ,failed in the SUP but success in  CVT\n",
    "sentence_sup = dict()\n",
    "sentence_cvt = dict()\n",
    "\n",
    "for x in sup['false']:\n",
    "    c, a, t, o = x\n",
    "    sentence_sup[(c, a)] = (t, o)\n",
    "for x in cvt['true']:\n",
    "    c, a, t, o = x\n",
    "    sentence_cvt[(c, a)] = (t, o)\n",
    "\n",
    "f_inter_sentence = saved_dir + 'inter_sentences.pkl'\n",
    "if os.path.exists(f_inter_sentence):\n",
    "    print('loading inter sentences……')\n",
    "    sentences = pickle.loads(open(f_inter_sentence, 'rb'))\n",
    "else:\n",
    "    sup_keys = set(list(sentence_sup.keys()))\n",
    "    cvt_keys = set(sentence_cvt.keys())\n",
    "    sentences = sup_keys.intersection(cvt_keys)  # inter\n",
    "\n",
    "print('inter sentences', len(sentences))\n",
    "print('=' * 30)\n",
    "print('【neg】:%s 【neutral】:%s 【positive】:%s' % (0, 1, 2))\n",
    "labels = {0: 'negative', 1: 'neutral', 2: 'positive'}\n",
    "print('\\n' * 2)\n",
    "sentences = sorted(sentences, key=lambda x: sentence_cvt[x][0])  # sorted by target label\n",
    "for x in sentences:\n",
    "    t_label = labels[sentence_sup[x][0]]\n",
    "    p_label_sup = labels[sentence_sup[x][1]]\n",
    "    p_label_cvt = labels[sentence_cvt[x][1]]\n",
    "    print('[context]:{}\\n[aspect]:{}'.format(x[0], x[1]))\n",
    "    print('[target]:{} [p_cvt]:{} [p_sup]:{} '.format(sentence_sup[x][0], sentence_cvt[x][1], sentence_sup[x][1]))\n",
    "    print('[target]:{} [p_cvt]:{} [p_sup]:{} '.format(t_label, p_label_cvt, p_label_sup, ))\n",
    "    print('=' * 30)"
   ]
  },
  {
   "cell_type": "code",
   "execution_count": 39,
   "id": "9aae6425",
   "metadata": {},
   "outputs": [
    {
     "name": "stdout",
     "output_type": "stream",
     "text": [
      "inter sentences 33\n",
      "==============================\n",
      "【neg】:0 【neutral】:1 【positive】:2\n",
      "\n",
      "\n",
      "\n",
      "[context]:i just bought the new macbook pro , the 13 '' model , and i ca n't believe apple keeps making the same mistake with regard to usb ports .\n",
      "[aspect]:usb ports\n",
      "[target]:negative [p_cvt]:negative [p_sup]:neutral \n",
      "==============================\n",
      "[context]:also , in using the built-in camera , my voice recording for my vlog sounds like the interplanetary transmissions in the `` star wars '' saga .\n",
      "[aspect]:voice recording\n",
      "[target]:negative [p_cvt]:negative [p_sup]:neutral \n",
      "==============================\n",
      "[context]:customization on mac is impossible .\n",
      "[aspect]:customization\n",
      "[target]:negative [p_cvt]:negative [p_sup]:positive \n",
      "==============================\n",
      "[context]:but i do not like win8 .\n",
      "[aspect]:win8\n",
      "[target]:negative [p_cvt]:negative [p_sup]:neutral \n",
      "==============================\n",
      "[context]:the volume is really low to low for a laptopwas not expectin t volume to be so lowan i hate that about this computer\n",
      "[aspect]:volume\n",
      "[target]:negative [p_cvt]:negative [p_sup]:positive \n",
      "==============================\n",
      "[context]:i was also informed that the components of the mac book were dirty .\n",
      "[aspect]:components\n",
      "[target]:negative [p_cvt]:negative [p_sup]:neutral \n",
      "==============================\n",
      "[context]:i had to buy a wireless mouse to go with it , as i am old school and hate the pad , but knew that before i bought it , now it works great , need to get adjusted to the key board , as i am used to a bigger one and pounding .\n",
      "[aspect]:pad\n",
      "[target]:negative [p_cvt]:negative [p_sup]:neutral \n",
      "==============================\n",
      "[context]:price was higher when purchased on mac when compared to price showing on pc when i bought this product .\n",
      "[aspect]:price\n",
      "[target]:positive [p_cvt]:negative [p_sup]:negative \n",
      "==============================\n",
      "[context]:i opted for the squaretrade 3-year computer accidental protection warranty -lrb- $ 1500-2000 -rrb- which also support `` accidents '' like drops and spills that are not covered by applecare .\n",
      "[aspect]:applecare\n",
      "[target]:negative [p_cvt]:negative [p_sup]:neutral \n",
      "==============================\n",
      "[context]:but the performance of mac mini is a huge disappointment .\n",
      "[aspect]:performance\n",
      "[target]:negative [p_cvt]:negative [p_sup]:positive \n",
      "==============================\n",
      "[context]:on start up it asks endless questions just so itune can sell you more of their products .\n",
      "[aspect]:start up\n",
      "[target]:negative [p_cvt]:negative [p_sup]:neutral \n",
      "==============================\n",
      "[context]:this one still has the cd slot .\n",
      "[aspect]:cd slot\n",
      "[target]:neutral [p_cvt]:neutral [p_sup]:negative \n",
      "==============================\n",
      "[context]:i got the new adapter and there was no change .\n",
      "[aspect]:adapter\n",
      "[target]:neutral [p_cvt]:neutral [p_sup]:negative \n",
      "==============================\n",
      "[context]:the like new condition of the imac mc309ll/a on amazon is at $ 900 + level only , and it is a quad-core 2.5 ghz cpu -lrb- similar to the $ 799 mini -rrb- , with radeon hd 6750m 512mb graphic card -lrb- this mini is integrated intel 4000 card -rrb- , and it even comes with wireless apple keyboard and mouse , all put together in neat and nice package .\n",
      "[aspect]:radeon hd 6750m 512mb graphic card\n",
      "[target]:neutral [p_cvt]:neutral [p_sup]:positive \n",
      "==============================\n",
      "[context]:unfortunately , it runs xp and microsoft is dropping support next april .\n",
      "[aspect]:xp\n",
      "[target]:neutral [p_cvt]:neutral [p_sup]:negative \n",
      "==============================\n",
      "[context]:this mac mini does not have a built-in mic , and it would seem that its mac os 10.9 does not handle external microphones properly .\n",
      "[aspect]:external microphones\n",
      "[target]:neutral [p_cvt]:neutral [p_sup]:negative \n",
      "==============================\n",
      "[context]:with the softwares supporting the use of other os makes it much better .\n",
      "[aspect]:softwares\n",
      "[target]:neutral [p_cvt]:neutral [p_sup]:positive \n",
      "==============================\n",
      "[context]:it 's been a couple weeks since the purchase and i 'm struggle with finding the correct keys -lrb- but that was expected -rrb- .\n",
      "[aspect]:keys\n",
      "[target]:neutral [p_cvt]:neutral [p_sup]:negative \n",
      "==============================\n",
      "[context]:the troubleshooting said it was the ac adaptor so we ordered a new one .\n",
      "[aspect]:ac adaptor\n",
      "[target]:neutral [p_cvt]:neutral [p_sup]:negative \n",
      "==============================\n",
      "[context]:fast , great screen , beautiful apps for a laptop ; priced at 1100 on the apple website ; amazon had it for 1098 + tax - plus i had a 10 % off coupon from amazon - cost me 998 plus tax - 1070 - otd !\n",
      "[aspect]:cost\n",
      "[target]:neutral [p_cvt]:neutral [p_sup]:positive \n",
      "==============================\n",
      "[context]:fan only comes on when you are playing a game .\n",
      "[aspect]:fan\n",
      "[target]:neutral [p_cvt]:neutral [p_sup]:negative \n",
      "==============================\n",
      "[context]:a veryimportant feature is firewire 800 which in my experience works better then usb3 -lrb- in pc enabled with usb3 -rrb- i was not originally sold on the mac os i felt it was inferior in many ways to windows 7 .\n",
      "[aspect]:usb3\n",
      "[target]:neutral [p_cvt]:neutral [p_sup]:negative \n",
      "==============================\n",
      "[context]:this mac does come with an extender cable and i 'm using mine right now hoping the cable will stay nice for the many years i plan on using this mac .\n",
      "[aspect]:extender cable\n",
      "[target]:neutral [p_cvt]:neutral [p_sup]:positive \n",
      "==============================\n",
      "[context]:the like new condition of the imac mc309ll/a on amazon is at $ 900 + level only , and it is a quad-core 2.5 ghz cpu -lrb- similar to the $ 799 mini -rrb- , with radeon hd 6750m 512mb graphic card -lrb- this mini is integrated intel 4000 card -rrb- , and it even comes with wireless apple keyboard and mouse , all put together in neat and nice package .\n",
      "[aspect]:integrated intel 4000 card\n",
      "[target]:neutral [p_cvt]:neutral [p_sup]:positive \n",
      "==============================\n",
      "[context]:the only thing i miss are the \"home/end\" type keys and other things that i grew accustomed to after so long .\n",
      "[aspect]:\"home/end\" type keys\n",
      "[target]:neutral [p_cvt]:neutral [p_sup]:negative \n",
      "==============================\n",
      "[context]:came with iphoto and garage band already loaded .\n",
      "[aspect]:garage band\n",
      "[target]:neutral [p_cvt]:neutral [p_sup]:positive \n",
      "==============================\n",
      "[context]:at home and the office it gets plugged into an external 24\" lcd screen , so built in screen size is not terribly important .\n",
      "[aspect]:external 24\" lcd screen\n",
      "[target]:neutral [p_cvt]:neutral [p_sup]:negative \n",
      "==============================\n",
      "[context]:from the speed to the multi touch gestures this operating system beats windows easily .\n",
      "[aspect]:operating system\n",
      "[target]:positive [p_cvt]:positive [p_sup]:neutral \n",
      "==============================\n",
      "[context]:air has higher resolution but the fonts are small .\n",
      "[aspect]:resolution\n",
      "[target]:positive [p_cvt]:positive [p_sup]:negative \n",
      "==============================\n",
      "[context]:from the speed to the multi touch gestures this operating system beats windows easily .\n",
      "[aspect]:speed\n",
      "[target]:positive [p_cvt]:positive [p_sup]:neutral \n",
      "==============================\n",
      "[context]:my last laptop was a 17 '' asus gaming machine , which performed admirably , but having since built my own desktop and really settling into the college life , i found myself wanting something smaller and less cumbersome , not to mention that the asus had been slowly developing problems ever since i bought it about 4 years ago .\n",
      "[aspect]:performed\n",
      "[target]:positive [p_cvt]:positive [p_sup]:neutral \n",
      "==============================\n",
      "[context]:from the speed to the multi touch gestures this operating system beats windows easily .\n",
      "[aspect]:multi touch gestures\n",
      "[target]:positive [p_cvt]:positive [p_sup]:neutral \n",
      "==============================\n",
      "[context]:a veryimportant feature is firewire 800 which in my experience works better then usb3 -lrb- in pc enabled with usb3 -rrb- i was not originally sold on the mac os i felt it was inferior in many ways to windows 7 .\n",
      "[aspect]:firewire 800\n",
      "[target]:positive [p_cvt]:positive [p_sup]:neutral \n",
      "==============================\n"
     ]
    }
   ],
   "source": [
    "sentence_sup=dict()\n",
    "sentence_cvt=dict()\n",
    "\n",
    "for x in sup['false']:\n",
    "    c,a,t,o = x\n",
    "    sentence_sup[(c,a)]=(t,o)\n",
    "for x in semit['true']:\n",
    "    c,a,t,o = x\n",
    "    sentence_cvt[(c,a)]=(t,o)\n",
    "\n",
    "# sorted by target label\n",
    "    \n",
    "sup_keys = set(list(sentence_sup.keys()))\n",
    "cvt_keys= set(sentence_cvt.keys())\n",
    "sentences = sup_keys.intersection(cvt_keys)  # inter\n",
    "print('inter sentences',len(sentences))\n",
    "print('='*30)\n",
    "print('【neg】:%s 【neutral】:%s 【positive】:%s' % (0,1,2))\n",
    "labels={0:'negative',1:'neutral',2:'positive'}\n",
    "print('\\n'*2)\n",
    "sentences= sorted(sentences,key=lambda x:sentence_cvt[x][0])  # sorted by target label \n",
    "for x in sentences:\n",
    "    t_label = labels[ sentence_sup[x][0]]\n",
    "    p_label_sup = labels[ sentence_sup[x][1]]\n",
    "    p_label_cvt = labels[ sentence_cvt[x][1]]\n",
    "    print('[context]:{}\\n[aspect]:{}'.format(x[0],x[1]))\n",
    "    print('[target]:{} [p_cvt]:{} [p_sup]:{} '.format(t_label,p_label_cvt,p_label_sup,))\n",
    "    print('='*30)"
   ]
  },
  {
   "cell_type": "code",
   "execution_count": null,
   "id": "85494a25",
   "metadata": {},
   "outputs": [],
   "source": [
    "sentence = 'this mac mini does not have a built-in mic , and it would seem that its mac os 10.9 does not handle external microphones properly .'\n",
    "\n",
    "print('target:{} p_label_sup:{} p_label_cvt:{}'.format())"
   ]
  },
  {
   "cell_type": "code",
   "execution_count": 117,
   "id": "fa890c04",
   "metadata": {},
   "outputs": [
    {
     "name": "stdout",
     "output_type": "stream",
     "text": [
      "18 10\n"
     ]
    }
   ],
   "source": [
    "sentence =['the', 'staff', 'members', 'are', 'extremely', 'friendly', 'and', 'even', 'replaced', 'my', 'drink', 'once', 'when', 'i', 'dropped', 'it', 'outside', '.']\n",
    "semit_max_indice = pickle.load(open('state/semit_max_indice.pkl','rb')).reshape(1,-1)\n",
    "\n",
    "semit_score = pickle.load(open('state/semit_score.pkl','rb'))\n",
    "\n",
    "semif_max_indice = pickle.load(open('state/semif_max_indice.pkl','rb')).reshape(1,-1)\n",
    "\n",
    "semif_score = pickle.load(open('state/semif_score.pkl','rb'))\n",
    "\n",
    "print(len(sentence),sentence.index('drink'))"
   ]
  },
  {
   "cell_type": "code",
   "execution_count": 123,
   "id": "ffe6354e",
   "metadata": {},
   "outputs": [
    {
     "name": "stdout",
     "output_type": "stream",
     "text": [
      "[0.05555885 0.05555673 0.05555829 0.05555732 0.05555276 0.05554964\n",
      " 0.05555715 0.0555553  0.05555272 0.05555291 0.05555218 0.05555345\n",
      " 0.05555403 0.05555663 0.05555771 0.05555782 0.05555817 0.05555826]\n",
      "[0.05555556 0.05555556 0.05555556 0.05555556 0.05555556 0.05555556\n",
      " 0.05555556 0.05555556 0.05555556 0.05555556 0.05555556 0.05555556\n",
      " 0.05555556 0.05555556 0.05555556 0.05555556 0.05555556 0.05555556]\n"
     ]
    }
   ],
   "source": [
    "print(semit_score.flatten())\n",
    "print(semif_score.flatten())"
   ]
  },
  {
   "cell_type": "code",
   "execution_count": 82,
   "id": "de693dec",
   "metadata": {},
   "outputs": [],
   "source": [
    "# semif \n",
    "def count_max(max_indice):\n",
    "    max_counts = []\n",
    "    for i in range(len(sentence)):\n",
    "        count = (max_indice==i).sum()\n",
    "        max_counts.append((i,sentence[i],count))\n",
    "    return max_counts "
   ]
  },
  {
   "cell_type": "code",
   "execution_count": 99,
   "id": "566fc47e",
   "metadata": {},
   "outputs": [
    {
     "name": "stdout",
     "output_type": "stream",
     "text": [
      "[(0, 'the', 5), (1, 'staff', 16), (2, 'members', 13), (3, 'are', 10), (4, 'extremely', 27), (5, 'friendly', 56), (6, 'and', 11), (7, 'even', 4), (8, 'replaced', 29), (9, 'my', 12), (10, 'drink', 39), (11, 'once', 8), (12, 'when', 7), (13, 'i', 6), (14, 'dropped', 37), (15, 'it', 4), (16, 'outside', 7), (17, '.', 9)]\n"
     ]
    },
    {
     "data": {
      "text/plain": [
       "array([ 5, 16, 13, 10, 27, 56, 11,  4, 29, 12, 39,  8,  7,  6, 37,  4,  7,\n",
       "        9])"
      ]
     },
     "execution_count": 99,
     "metadata": {},
     "output_type": "execute_result"
    }
   ],
   "source": [
    "semif_max=count_max(semif_max_indice)  # semif \n",
    "print(semif_max)\n",
    "semif_max = np.array([x[2] for x in semif_max])\n",
    "semif_max"
   ]
  },
  {
   "cell_type": "code",
   "execution_count": 98,
   "id": "5bb5d79f",
   "metadata": {},
   "outputs": [
    {
     "name": "stdout",
     "output_type": "stream",
     "text": [
      "[(0, 'the', 29), (1, 'staff', 15), (2, 'members', 2), (3, 'are', 13), (4, 'extremely', 14), (5, 'friendly', 43), (6, 'and', 19), (7, 'even', 3), (8, 'replaced', 14), (9, 'my', 11), (10, 'drink', 39), (11, 'once', 1), (12, 'when', 3), (13, 'i', 28), (14, 'dropped', 16), (15, 'it', 10), (16, 'outside', 8), (17, '.', 32)]\n"
     ]
    },
    {
     "data": {
      "text/plain": [
       "array([29, 15,  2, 13, 14, 43, 19,  3, 14, 11, 39,  1,  3, 28, 16, 10,  8,\n",
       "       32])"
      ]
     },
     "execution_count": 98,
     "metadata": {},
     "output_type": "execute_result"
    }
   ],
   "source": [
    "semit_max=count_max(semit_max_indice)  # semif \n",
    "print(semit_max)\n",
    "semit_max = np.array([x[2] for x in semit_max])\n",
    "semit_max"
   ]
  },
  {
   "cell_type": "code",
   "execution_count": 112,
   "id": "87fd8bc7",
   "metadata": {},
   "outputs": [
    {
     "data": {
      "text/plain": [
       "Text(0.5, 105.12, 'sentence')"
      ]
     },
     "execution_count": 112,
     "metadata": {},
     "output_type": "execute_result"
    },
    {
     "data": {
      "image/png": "[encoded data removed]",
      "text/plain": [
       "<Figure size 432x288 with 1 Axes>"
      ]
     },
     "metadata": {},
     "output_type": "display_data"
    }
   ],
   "source": [
    "stack =  np.stack([semif_max,semit_max])\n",
    "ax=sns.heatmap(stack,cmap='Blues',cbar=False,square=True)\n",
    "plt.xlabel('sentence')\n",
    "# ax.set_xticks(range(18,36))  # x轴刻度"
   ]
  },
  {
   "cell_type": "code",
   "execution_count": 116,
   "id": "37b53d15",
   "metadata": {},
   "outputs": [
    {
     "name": "stderr",
     "output_type": "stream",
     "text": [
      "C:\\Users\\hollis\\AppData\\Roaming\\Python\\Python36\\site-packages\\ipykernel_launcher.py:16: UserWarning: FixedFormatter should only be used together with FixedLocator\n",
      "  app.launch_new_instance()\n",
      "C:\\Users\\hollis\\AppData\\Roaming\\Python\\Python36\\site-packages\\ipykernel_launcher.py:17: UserWarning: FixedFormatter should only be used together with FixedLocator\n"
     ]
    },
    {
     "data": {
      "image/png": "[encoded data removed]",
      "text/plain": [
       "<Figure size 432x288 with 1 Axes>"
      ]
     },
     "metadata": {},
     "output_type": "display_data"
    }
   ],
   "source": [
    "# 画图 \n",
    "fig = plt.figure()\n",
    "ax = fig.add_subplot(1,1,1) # 1*1 获取第1幅图片\n",
    "# matshow 返回对象  AxesImage\n",
    "cax=ax.matshow(stack,cmap='Blues')  \n",
    "\n",
    "\n",
    "# 如果不添加刻度的话 就会默认显示012 这样的数字索引 \n",
    "# ticklabels 用于显示文字 添加一开始的空字符串 \n",
    "# ''空字符 会在原点显示 其余字符会在每个矩阵的中间位置显示 \n",
    "# 也就是说 如果矩阵有n列 除了n个 文字刻度 显示之外 还要在它的头前面加一个 '' 总计n+1 \n",
    "# y轴同理 \n",
    "xticklabels=['']+sentence\n",
    "yticklabels=['']+['sup','semi']\n",
    "\n",
    "ax.set_xticklabels(xticklabels,rotation=90)  # 设置x轴刻度标签\n",
    "ax.set_yticklabels(yticklabels)\n",
    "\n",
    "# majorlocator 是用于调整刻度间距的 \n",
    "# MultipleLocator 表示固定间隔1\n",
    "ax.xaxis.set_major_locator(ticker.MultipleLocator(1))\n",
    "ax.yaxis.set_major_locator(ticker.MultipleLocator(1))"
   ]
  },
  {
   "cell_type": "code",
   "execution_count": 120,
   "id": "c11a33b0",
   "metadata": {},
   "outputs": [
    {
     "name": "stderr",
     "output_type": "stream",
     "text": [
      "C:\\Users\\hollis\\AppData\\Roaming\\Python\\Python36\\site-packages\\ipykernel_launcher.py:17: UserWarning: FixedFormatter should only be used together with FixedLocator\n",
      "C:\\Users\\hollis\\AppData\\Roaming\\Python\\Python36\\site-packages\\ipykernel_launcher.py:18: UserWarning: FixedFormatter should only be used together with FixedLocator\n"
     ]
    },
    {
     "data": {
      "image/png": "[encoded data removed]",
      "text/plain": [
       "<Figure size 432x288 with 1 Axes>"
      ]
     },
     "metadata": {},
     "output_type": "display_data"
    }
   ],
   "source": [
    "# 画图 \n",
    "fig = plt.figure()\n",
    "ax = fig.add_subplot(1,1,1) # 1*1 获取第1幅图片\n",
    "# matshow 返回对象  AxesImage\n",
    "score_stack = np.stack([semit_score,semif_score]).reshape(2,-1)\n",
    "cax=ax.matshow(score_stack,cmap='Blues')  \n",
    "\n",
    "\n",
    "# 如果不添加刻度的话 就会默认显示012 这样的数字索引 \n",
    "# ticklabels 用于显示文字 添加一开始的空字符串 \n",
    "# ''空字符 会在原点显示 其余字符会在每个矩阵的中间位置显示 \n",
    "# 也就是说 如果矩阵有n列 除了n个 文字刻度 显示之外 还要在它的头前面加一个 '' 总计n+1 \n",
    "# y轴同理 \n",
    "xticklabels=['']+sentence\n",
    "yticklabels=['']+['sup','semi']\n",
    "\n",
    "ax.set_xticklabels(xticklabels,rotation=90)  # 设置x轴刻度标签\n",
    "ax.set_yticklabels(yticklabels)\n",
    "\n",
    "# majorlocator 是用于调整刻度间距的 \n",
    "# MultipleLocator 表示固定间隔1\n",
    "ax.xaxis.set_major_locator(ticker.MultipleLocator(1))\n",
    "ax.yaxis.set_major_locator(ticker.MultipleLocator(1))"
   ]
  }
 ],
 "metadata": {
  "kernelspec": {
   "display_name": "Python [conda env:pt19]",
   "language": "python",
   "name": "conda-env-pt19-py"
  },
  "language_info": {
   "codemirror_mode": {
    "name": "ipython",
    "version": 3
   },
   "file_extension": ".py",
   "mimetype": "text/x-python",
   "name": "python",
   "nbconvert_exporter": "python",
   "pygments_lexer": "ipython3",
   "version": "3.6.13"
  }
 },
 "nbformat": 4,
 "nbformat_minor": 5
}
